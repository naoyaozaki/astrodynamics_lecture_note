{
 "cells": [
  {
   "cell_type": "markdown",
   "metadata": {},
   "source": [
    "---  \n",
    "title: \"軌道最適化に関するノートブック\"  \n",
    "author: \"Naoya Ozaki\"  \n",
    "date: \"24 January 2024\"  \n",
    "output: \"trajectory_optimization\"  \n",
    "\n",
    "---  \n",
    "\n",
    "# Julia言語による軌道最適化に関するノートブック\n",
    "\n",
    "## 1. SPICEの使い方\n",
    "\n",
    "本章では，NASAジェット推進研究所(JPL)のNavigation and Ancillary Information Facility (NAIF)が提供するSPICE 1)の使い方をまとめる．C,FOTRAN, MATLAB等のインタフェースが提供されているが，ここではJuliaインタフェースである`SPICE.jl` 2)を用いて，惑星の精密な軌道情報を取得する．\n",
    "\n",
    "1. https://naif.jpl.nasa.gov/naif/\n",
    "2. https://github.com/JuliaAstro/SPICE.jl"
   ]
  },
  {
   "cell_type": "code",
   "execution_count": null,
   "metadata": {},
   "outputs": [],
   "source": [
    "import SPICE\n",
    "\n",
    "# Load generic kernels\n",
    "SPICE.furnsh(\"/Users/naoya/Programming/SPICE/generic_kernels/lsk/naif0012.tls\") # Leap seconds kernel\n",
    "SPICE.furnsh(\"/Users/naoya/Programming/SPICE/generic_kernels/pck/gm_de431.tpc\") # Gravity Constant\n",
    "SPICE.furnsh(\"/Users/naoya/Programming/SPICE/generic_kernels/spk/planets/de440.bsp\") # Planetary ephemeris kernel\n",
    "\n",
    "# Convert the calendar date to ephemeris seconds past J2000\n",
    "et = SPICE.utc2et(\"2018-02-06T20:45:00\")\n",
    "\n",
    "# Get the position of Mars at `et` w.r.t. Earth\n",
    "SPICE.spkpos(\"mars_barycenter\", et, \"J2000\", \"none\", \"earth\")"
   ]
  }
 ],
 "metadata": {
  "kernelspec": {
   "display_name": "Julia 1.9.4",
   "language": "julia",
   "name": "julia-1.9"
  },
  "language_info": {
   "file_extension": ".jl",
   "mimetype": "application/julia",
   "name": "julia",
   "version": "1.9.4"
  }
 },
 "nbformat": 4,
 "nbformat_minor": 2
}
