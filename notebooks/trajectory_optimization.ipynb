{
 "cells": [
  {
   "cell_type": "markdown",
   "metadata": {},
   "source": [
    "---  \n",
    "title: \"軌道最適化に関するノートブック\"  \n",
    "author: \"Naoya Ozaki\"  \n",
    "date: \"24 January 2024\"  \n",
    "output: \"trajectory_optimization\"  \n",
    "\n",
    "---  \n",
    "\n",
    "# Julia言語による軌道最適化に関するノートブック\n",
    "\n",
    "## 1. SPICEの使い方\n",
    "\n",
    "本章では，NASAジェット推進研究所(JPL)のNavigation and Ancillary Information Facility (NAIF)が提供するSPICE 1)の使い方をまとめる．C,FOTRAN, MATLAB等のインタフェースが提供されているが，ここではJuliaインタフェースである`SPICE.jl` 2)を用いて，惑星の精密な軌道情報を取得する．\n",
    "\n",
    "1. https://naif.jpl.nasa.gov/naif/\n",
    "2. https://github.com/JuliaAstro/SPICE.jl"
   ]
  },
  {
   "cell_type": "code",
   "execution_count": 1,
   "metadata": {},
   "outputs": [
    {
     "data": {
      "text/plain": [
       "([-149729.32542123165, 323380.9514241508, 178003.47653310827, -0.930096599343289, -0.31477987020879544, -0.13948942418980217], 1.3287384459430396)"
      ]
     },
     "execution_count": 1,
     "metadata": {},
     "output_type": "execute_result"
    }
   ],
   "source": [
    "import SPICE\n",
    "\n",
    "# Load generic kernels\n",
    "SPICE.furnsh(\"/Users/naoya/Programming/SPICE/generic_kernels/lsk/naif0012.tls\") # Leap seconds kernel\n",
    "SPICE.furnsh(\"/Users/naoya/Programming/SPICE/generic_kernels/pck/gm_de431.tpc\") # Gravity Constant\n",
    "SPICE.furnsh(\"/Users/naoya/Programming/SPICE/generic_kernels/spk/planets/de440.bsp\") # Planetary ephemeris kernel\n",
    "\n",
    "# Convert the calendar date to ephemeris seconds past J2000\n",
    "et = SPICE.utc2et(\"2024-01-24T17:00:00\")\n",
    "\n",
    "# Get the position of Mars at `et` w.r.t. Earth\n",
    "SPICE.spkezr(\"MOON\", et, \"J2000\", \"NONE\", \"EARTH\")"
   ]
  },
  {
   "cell_type": "markdown",
   "metadata": {},
   "source": [
    "## 2. `DifferentialEquations.jl`による軌道伝播"
   ]
  },
  {
   "cell_type": "code",
   "execution_count": 2,
   "metadata": {},
   "outputs": [
    {
     "data": {
      "text/plain": [
       "eom_nbp!"
      ]
     },
     "execution_count": 2,
     "metadata": {},
     "output_type": "execute_result"
    }
   ],
   "source": [
    "using DifferentialEquations\n",
    "using LinearAlgebra\n",
    "\n",
    "\"\"\"\n",
    "   eom_nbp!(dxdt, x, p, t)\n",
    "\n",
    "Computes the equation of motion for the N-body problem.\n",
    "\n",
    "# Arguments\n",
    "- `dxdt`: The derivative of the state vector.\n",
    "- `x`: The state vector.\n",
    "- `p`: The parameter sets.\n",
    "- `t`: The time.\n",
    "\"\"\"\n",
    "function eom_nbp!(dxdt, x, p, t)\n",
    "    # Initialize dx/dt\n",
    "    dxdt[1:3] .= x[4:6]\n",
    "    dxdt[4:6] .= p.u\n",
    "\n",
    "    # Calculate Gravitational Acceleration\n",
    "    for id in p.list_bodies\n",
    "        # Get planetary ephemeris\n",
    "        x_body = SPICE.spkez(id, t, \"J2000\", \"NONE\", 0)[1]\n",
    "        r_body = x_body[1:3]\n",
    "        #v_body = x_body[4:6] / (p.lsf / p.tsf)\n",
    "        gm_body = SPICE.bodvcd(id, \"GM\", 1)[1]\n",
    "\n",
    "        # Acceleration due to the body id\n",
    "        r_rel = x[1:3] - r_body\n",
    "        dxdt[4:6] .-= gm_body * r_rel / norm(r_rel)^3\n",
    "    end\n",
    "end"
   ]
  },
  {
   "cell_type": "code",
   "execution_count": 4,
   "metadata": {},
   "outputs": [
    {
     "data": {
      "text/plain": [
       "retcode: Success\n",
       "Interpolation: specialized 7th order lazy interpolation\n",
       "t: 31-element Vector{Float64}:\n",
       " 7.593876691845803e8\n",
       " 7.593876692166234e8\n",
       " 7.593876692872773e8\n",
       " 7.593876694114087e8\n",
       " 7.59387669637369e8\n",
       " 7.593876700521226e8\n",
       " 7.593876706983421e8\n",
       " 7.593876717407582e8\n",
       " 7.59387673422188e8\n",
       " 7.593876761428325e8\n",
       " 7.593876797745717e8\n",
       " 7.593876841822865e8\n",
       " 7.593876900026442e8\n",
       " ⋮\n",
       " 7.593878009000132e8\n",
       " 7.593878383801446e8\n",
       " 7.59387878904786e8\n",
       " 7.593879270270623e8\n",
       " 7.593879800603442e8\n",
       " 7.593880604357818e8\n",
       " 7.593881367942666e8\n",
       " 7.59388227419768e8\n",
       " 7.593883390807638e8\n",
       " 7.593884529895371e8\n",
       " 7.59388573837933e8\n",
       " 7.593886691845803e8\n",
       "u: 31-element Vector{Vector{Float64}}:\n",
       " [-8.337281530069983e7, 1.1208039905539091e8, 4.86573716433273e7, -26.13075980960512, -15.653048739955954, -6.788327413072386]\n",
       " [-8.33728161380097e7, 1.120803985538191e8, 4.865737142580842e7, -26.130759638691767, -15.653048953961287, -6.788327513533659]\n",
       " [-8.337281798425062e7, 1.1208039744786961e8, 4.865737094618638e7, -26.130759261833372, -15.653049425836056, -6.788327735047487]\n",
       " [-8.33728212278973e7, 1.1208039550483523e8, 4.865737010354199e7, -26.13075859973362, -15.653050254869234, -6.7883281242234395]\n",
       " [-8.337282713241225e7, 1.1208039196786651e8, 4.865736856964899e7, -26.130757394491724, -15.65305176398507, -6.788328832652982]\n",
       " [-8.337283797023606e7, 1.1208038547570722e8, 4.865736575416527e7, -26.13075518225151, -15.65305453398909, -6.788330132985693]\n",
       " [-8.337285485643698e7, 1.1208037536039765e8, 4.865736136741371e7, -26.130751735400708, -15.653058849877464, -6.788332159008335]\n",
       " [-8.337288209555002e7, 1.120803590433937e8, 4.865735429114537e7, -26.13074617528244, -15.653065811830908, -6.7883354271826315]\n",
       " [-8.337292603255971e7, 1.120803327238518e8, 4.865734287703096e7, -26.130737206728462, -15.653077041539596, -6.788340698784371]\n",
       " [-8.337299712498462e7, 1.120802901373702e8, 4.865732440835804e7, -26.130722695083236, -15.653095211796431, -6.788349228512316]\n",
       " [-8.337309202491736e7, 1.1208023328936788e8, 4.8657299754823886e7, -26.13070332367289, -15.653119466907789, -6.788360614675473]\n",
       " [-8.337320720155352e7, 1.1208016429481655e8, 4.865726983363583e7, -26.130679813150838, -15.653148904432598, -6.78837443363806]\n",
       " [-8.337335929136592e7, 1.120800731877781e8, 4.865723032281551e7, -26.130648767465907, -15.653187776391663, -6.788392681441976]\n",
       " ⋮\n",
       " [-8.337625707876123e7, 1.1207833724937181e8, 4.865647748864985e7, -26.13005719956437, -15.653928397399435, -6.788740354072268]\n",
       " [-8.337723643299094e7, 1.1207775053338823e8, 4.865622304356753e7, -26.129857247972918, -15.654178697295455, -6.788857853439137]\n",
       " [-8.337829533170411e7, 1.1207711614792709e8, 4.865594792496356e7, -26.1296410437478, -15.654449324058188, -6.7889848949937965]\n",
       " [-8.337955274333231e7, 1.1207636281245914e8, 4.8655621219926864e7, -26.12938429088823, -15.654770681698547, -6.789135751454451]\n",
       " [-8.338093846283187e7, 1.1207553257920174e8, 4.865526116536835e7, -26.129101317782194, -15.655124826272395, -6.789301999341919]\n",
       " [-8.33830385835492e7, 1.1207427427012312e8, 4.8654715462123446e7, -26.128672417520136, -15.655661538819846, -6.789553951239249]\n",
       " [-8.338503371382606e7, 1.1207307880806339e8, 4.8654197012933165e7, -26.128264912556, -15.656171409000303, -6.789793302598654]\n",
       " [-8.33874015790169e7, 1.1207165993226025e8, 4.865358167163914e7, -26.127781217729595, -15.656776520758715, -6.790077364051297]\n",
       " [-8.339031899980935e7, 1.1206991163937902e8, 4.865282346529932e7, -26.127185174826785, -15.657522052085357, -6.790427343968484]\n",
       " [-8.339329508078773e7, 1.1206812806693502e8, 4.865204995571711e7, -26.126577047505634, -15.658282550669348, -6.790784350540595]\n",
       " [-8.339645239672437e7, 1.1206623573985696e8, 4.865122927743666e7, -26.125931776692997, -15.659089336031382, -6.791163086383421]\n",
       " [-8.339894339245552e7, 1.1206474266784328e8, 4.86505817485597e7, -26.12542260378795, -15.65972583885332, -6.791461885479871]"
      ]
     },
     "execution_count": 4,
     "metadata": {},
     "output_type": "execute_result"
    }
   ],
   "source": [
    "# Propagator Setting\n",
    "et0 = SPICE.utc2et(\"2024-01-24T17:00:00\")\n",
    "x0 = SPICE.spkez(301, et0, \"J2000\", \"NONE\", 0)[1]\n",
    "tspan = (et0, et0+1000.0)\n",
    "prob = ODEProblem(eom_nbp!, x0, tspan, (;list_bodies=[10, 399, 5], u=[1.0e-6, 0.0, 0.0]))\n",
    "\n",
    "# Solve\n",
    "sol = solve(prob, Vern7(), reltol=1e-15, abstol=1e-15)"
   ]
  },
  {
   "cell_type": "markdown",
   "metadata": {},
   "source": [
    "## 3. JuMP, Ipopt.jlを使った最適化"
   ]
  },
  {
   "cell_type": "code",
   "execution_count": 5,
   "metadata": {},
   "outputs": [],
   "source": [
    "using JuMP, Ipopt\n",
    "model = Model(Ipopt.Optimizer)\n",
    "set_attribute(model, \"max_cpu_time\", 60.0)\n",
    "set_attribute(model, \"print_level\", 0)"
   ]
  }
 ],
 "metadata": {
  "kernelspec": {
   "display_name": "Julia 1.8.3",
   "language": "julia",
   "name": "julia-1.8"
  },
  "language_info": {
   "file_extension": ".jl",
   "mimetype": "application/julia",
   "name": "julia",
   "version": "1.8.3"
  }
 },
 "nbformat": 4,
 "nbformat_minor": 2
}
