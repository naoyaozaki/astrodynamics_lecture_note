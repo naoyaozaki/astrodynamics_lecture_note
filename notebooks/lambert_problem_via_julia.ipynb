{
 "cells": [
  {
   "cell_type": "markdown",
   "metadata": {},
   "source": [
    "---\n",
    "title: \"Juliaを用いたランベール問題のソルバーに関するノートブック\" \\\n",
    "author: \"Naoya Ozaki\" \\\n",
    "date: \"04 June 2022\" \\\n",
    "output: \"lambert_problem_via_julia\"\n",
    "\n",
    "---\n",
    "\n",
    "# Juliaを用いたランベール問題のソルバーに関するノートブック\n",
    "数値計算分野で用いられるJuliaを用いてランベール問題(Lambert's Problem)の解法を実装してみよう．"
   ]
  },
  {
   "cell_type": "markdown",
   "metadata": {},
   "source": [
    "# 1. はじめに\n",
    "ランベール問題とは，二体問題の力学環境下において，初期位置$\\boldsymbol{r}_0$と終端位置$\\boldsymbol{r}_\\textrm{f}$と遷移時間TOF($=t_f-t_0$)が与えられた時に，初期速度$\\boldsymbol{v}_0$と終端速度$\\boldsymbol{v}_\\textrm{f}$を解く問題であり，二点境界値問題の一種である．与えられた$\\boldsymbol{r}_0$, $\\boldsymbol{r}_\\textrm{f}$, TOFを満たす解は複数存在する（＝一意に定まらない）ため，複数の解が出力される必要がある．`pykep`等でランベール問題用ソルバーが提供されているが，ここではゼロから実装することを考える．本実装を進める上で参考となる論文を以下に挙げる．\n",
    "\n",
    "### 参考文献・論文\n",
    "1. Dario Izzo, \"Revisiting Lambert's problem\", Celestial Mechanics and Dynamical Astoronomy, 2015, Vol 121, pp 1-15.\n",
    "2. R. H. Battin, \"An Introduction to the Mathematics and Methods of Astrodynamics, Revised Version\", 1999, AIAA Education Series.\n",
    "3. PyKEP (https://esa.github.io/pykep/) access on Nov.2017.\n",
    "4. Fortran-Astrodynamics-Toolkit(https://github.com/jacobwilliams/Fortran-Astrodynamics-Toolkit) access on Nov.2017.\n",
    "\n",
    "### Julia用のNAIF SPICE Toolkitのインストール\n",
    "以下のGithubからインストールすることが可能である．\\\n",
    "https://github.com/JuliaAstro/SPICE.jl\n",
    "\n",
    "参考情報：\\\n",
    "Acton, C.H.; \"Ancillary Data Services of NASA's Navigation and Ancillary Information Facility;\" Planetary and Space Science, Vol. 44, No. 1, pp. 65-70, 1996."
   ]
  },
  {
   "cell_type": "code",
   "execution_count": 9,
   "metadata": {},
   "outputs": [
    {
     "name": "stderr",
     "output_type": "stream",
     "text": [
      "\u001b[32m\u001b[1m   Resolving\u001b[22m\u001b[39m package versions...\n",
      "\u001b[32m\u001b[1m  No Changes\u001b[22m\u001b[39m to `~/.julia/environments/v1.7/Project.toml`\n",
      "\u001b[32m\u001b[1m  No Changes\u001b[22m\u001b[39m to `~/.julia/environments/v1.7/Manifest.toml`\n"
     ]
    }
   ],
   "source": [
    "import Pkg; Pkg.add(\"SPICE\")"
   ]
  },
  {
   "cell_type": "code",
   "execution_count": 10,
   "metadata": {},
   "outputs": [
    {
     "data": {
      "text/plain": [
       "([-9.561252750118901e7, -2.045743839170729e8, -8.601309297738348e7], 806.0297773638883)"
      ]
     },
     "execution_count": 10,
     "metadata": {},
     "output_type": "execute_result"
    }
   ],
   "source": [
    "import SPICE\n",
    "\n",
    "# Load generic kernels\n",
    "SPICE.furnsh(\"/Users/naoya/Google Drive/21_Programming/SPICE/generic_kernels/lsk/naif0012.tls\") # Leap seconds kernel\n",
    "SPICE.furnsh(\"/Users/naoya/Google Drive/21_Programming/SPICE/generic_kernels/pck/gm_de431.tpc\") # Gravity Constant\n",
    "SPICE.furnsh(\"/Users/naoya/Google Drive/21_Programming/SPICE/generic_kernels/spk/planets/de440.bsp\") # Planetary ephemeris kernel\n",
    "\n",
    "# Convert the calendar date to ephemeris seconds past J2000\n",
    "et = SPICE.utc2et(\"2018-02-06T20:45:00\")\n",
    "\n",
    "# Get the position of Mars at `et` w.r.t. Earth\n",
    "SPICE.spkpos(\"mars_barycenter\", et, \"J2000\", \"none\", \"earth\")"
   ]
  },
  {
   "cell_type": "markdown",
   "metadata": {},
   "source": [
    "# 2. 理論編\n",
    "TBW"
   ]
  },
  {
   "cell_type": "markdown",
   "metadata": {},
   "source": [
    "# 3. 実装編\n",
    "\n",
    "## 3.1. 前提条件\n",
    "以下に示す前提条件でランベール問題の実装を進める．"
   ]
  },
  {
   "cell_type": "code",
   "execution_count": 11,
   "metadata": {},
   "outputs": [
    {
     "data": {
      "text/plain": [
       "3-element Vector{Float64}:\n",
       "  2.0803122655020934e8\n",
       "  1.8008145720647745e7\n",
       " -4.721309430616008e6"
      ]
     },
     "execution_count": 11,
     "metadata": {},
     "output_type": "execute_result"
    }
   ],
   "source": [
    "import SPICE\n",
    "# 重力定数\n",
    "μ = SPICE.bodvrd(\"SUN\", \"GM\", 1)[1];\n",
    "\n",
    "# 飛行時間\n",
    "et1 = SPICE.str2et(\"2031/03/01 00:00:00 UTC\") # 地球出発日時, UTC\n",
    "et2 = SPICE.str2et(\"2032/01/01 00:00:00 UTC\") # 火星到着日時, UTC\n",
    "tof = et2 - et1 # 飛行時間\n",
    "\n",
    "#　地球・火星軌道\n",
    "state_earth, _ = SPICE.spkez(399, et1, \"ECLIPJ2000\", \"NONE\", 10)\n",
    "state_mars, _ = SPICE.spkez(4, et2, \"ECLIPJ2000\", \"NONE\", 10)\n",
    "\n",
    "r1 = state_earth[1:3]\n",
    "r2 = state_mars[1:3]"
   ]
  },
  {
   "cell_type": "markdown",
   "metadata": {},
   "source": [
    "## 3.2. ランベール問題のソルバー\n",
    "ランベール問題を解く際に利用される変数\n",
    "$$\n",
    "\\begin{align}\n",
    "c &= \\|\\boldsymbol{r}_2 - \\boldsymbol{r}_1\\| \\\\\n",
    "s &= \\frac{1}{2}\\left(r_1 + r_2 + c\\right) \\\\\n",
    "\\lambda^2 &= 1 - \\frac{c}{s}\n",
    "\\end{align}\n",
    "$$\n",
    "および軌道を規定する基底を計算する．\n"
   ]
  },
  {
   "cell_type": "code",
   "execution_count": 12,
   "metadata": {},
   "outputs": [
    {
     "data": {
      "text/plain": [
       "2.054755701462335"
      ]
     },
     "execution_count": 12,
     "metadata": {},
     "output_type": "execute_result"
    }
   ],
   "source": [
    "using LinearAlgebra\n",
    "\n",
    "# ランベール問題で用いられる幾何学的な変数\n",
    "r1_norm = norm(r1)\n",
    "r2_norm = norm(r2)\n",
    "c = norm(r2-r1)\n",
    "s = 0.5*(r1_norm + r2_norm + c)\n",
    "λ2 = 1.0 - c/s\n",
    "\n",
    "# 無次元化時刻の計算\n",
    "tof_nomdim = sqrt(2.0*μ/(s^3))*tof"
   ]
  },
  {
   "cell_type": "code",
   "execution_count": 13,
   "metadata": {},
   "outputs": [
    {
     "data": {
      "text/plain": [
       "3-element Vector{Float64}:\n",
       " -0.0872249314162494\n",
       "  0.9950288911397668\n",
       " -0.04805535492114194"
      ]
     },
     "execution_count": 13,
     "metadata": {},
     "output_type": "execute_result"
    }
   ],
   "source": [
    "# 基底ベクトル\n",
    "ivec_r1 = r1/r1_norm\n",
    "ivec_r2 = r2/r2_norm\n",
    "ivec_h = cross(ivec_r1, ivec_r2)\n",
    "ivec_h = ivec_h/norm(ivec_h) # 角運動量ベクトル\n",
    "# NOTE: r1ベクトルとr2ベクトルが平行な場合，ivec_hが定義できないため，注意が必要．\n",
    "\n",
    "if ivec_h[3] < 0.0\n",
    "    λ = -sqrt(λ2)\n",
    "    ivec_t1 = -cross(ivec_h, ivec_r1)\n",
    "    ivec_t2 = -cross(ivec_h, ivec_r2)\n",
    "else\n",
    "    λ = sqrt(λ2)\n",
    "    ivec_t1 = cross(ivec_h, ivec_r1)\n",
    "    ivec_t2 = cross(ivec_h, ivec_r2)\n",
    "end"
   ]
  },
  {
   "cell_type": "markdown",
   "metadata": {},
   "source": [
    "### x, yの解法\n",
    "$\\lambda$と$T$を入力として，$x, y$を計算する．\n"
   ]
  },
  {
   "cell_type": "code",
   "execution_count": 32,
   "metadata": {},
   "outputs": [],
   "source": [
    "function find_xy(λ_, tof_)\n",
    "    if abs(λ_) >= 1\n",
    "        error(\"ERROR: Lambda must be more than 1.\")\n",
    "    end\n",
    "    if tof_ < 0\n",
    "        error(\"ERROR: Non dimensional tof must be a positive number.\")\n",
    "    end\n",
    "end\n",
    "\n",
    "find_xy(λ,tof_nomdim)"
   ]
  },
  {
   "cell_type": "code",
   "execution_count": null,
   "metadata": {},
   "outputs": [],
   "source": []
  }
 ],
 "metadata": {
  "kernelspec": {
   "display_name": "Julia 1.7.2",
   "language": "julia",
   "name": "julia-1.7"
  },
  "language_info": {
   "file_extension": ".jl",
   "mimetype": "application/julia",
   "name": "julia",
   "version": "1.7.2"
  },
  "orig_nbformat": 4,
  "vscode": {
   "interpreter": {
    "hash": "aee8b7b246df8f9039afb4144a1f6fd8d2ca17a180786b69acc140d282b71a49"
   }
  }
 },
 "nbformat": 4,
 "nbformat_minor": 2
}
