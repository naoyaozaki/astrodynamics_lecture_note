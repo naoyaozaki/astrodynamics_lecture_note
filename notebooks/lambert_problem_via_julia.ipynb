{
 "cells": [
  {
   "cell_type": "markdown",
   "metadata": {},
   "source": [
    "---\n",
    "title: \"Juliaを用いたランベール問題のソルバーに関するノートブック\" \\\n",
    "author: \"Naoya Ozaki\" \\\n",
    "date: \"04 June 2022\" \\\n",
    "output: \"lambert_problem_via_julia\"\n",
    "\n",
    "---\n",
    "\n",
    "# Juliaを用いたランベール問題のソルバーに関するノートブック\n",
    "数値計算分野で用いられるJuliaを用いてランベール問題(Lambert's Problem)の解法を実装してみよう．"
   ]
  },
  {
   "cell_type": "markdown",
   "metadata": {},
   "source": [
    "# 1. はじめに\n",
    "ランベール問題とは，二体問題の力学環境下において，初期位置$\\boldsymbol{r}_0$と終端位置$\\boldsymbol{r}_\\textrm{f}$と遷移時間TOF($=t_f-t_0$)が与えられた時に，初期速度$\\boldsymbol{v}_0$と終端速度$\\boldsymbol{v}_\\textrm{f}$を解く問題であり，二点境界値問題の一種である．与えられた$\\boldsymbol{r}_0$, $\\boldsymbol{r}_\\textrm{f}$, TOFを満たす解は複数存在する（＝一意に定まらない）ため，複数の解が出力される必要がある．`pykep`等でランベール問題用ソルバーが提供されているが，ここではゼロから実装することを考える．本実装を進める上で参考となる論文を以下に挙げる．\n",
    "\n",
    "### 参考文献・論文\n",
    "1. Dario Izzo, \"Revisiting Lambert's problem\", Celestial Mechanics and Dynamical Astoronomy, 2015, Vol 121, pp 1-15.\n",
    "2. R. H. Battin, \"An Introduction to the Mathematics and Methods of Astrodynamics, Revised Version\", 1999, AIAA Education Series.\n",
    "3. PyKEP (https://esa.github.io/pykep/) access on Nov.2017.\n",
    "4. Fortran-Astrodynamics-Toolkit(https://github.com/jacobwilliams/Fortran-Astrodynamics-Toolkit) access on Nov.2017.\n",
    "\n",
    "### Julia用のNAIF SPICE Toolkitのインストール\n",
    "以下のGithubからインストールすることが可能である．\\\n",
    "https://github.com/JuliaAstro/SPICE.jl\n",
    "\n",
    "参考情報：\\\n",
    "Acton, C.H.; \"Ancillary Data Services of NASA's Navigation and Ancillary Information Facility;\" Planetary and Space Science, Vol. 44, No. 1, pp. 65-70, 1996."
   ]
  },
  {
   "cell_type": "code",
   "execution_count": 1,
   "metadata": {},
   "outputs": [
    {
     "name": "stderr",
     "output_type": "stream",
     "text": [
      "\u001b[32m\u001b[1m    Updating\u001b[22m\u001b[39m registry at `~/.julia/registries/General.toml`\n",
      "\u001b[32m\u001b[1m   Resolving\u001b[22m\u001b[39m package versions...\n",
      "\u001b[32m\u001b[1m  No Changes\u001b[22m\u001b[39m to `~/.julia/environments/v1.7/Project.toml`\n",
      "\u001b[32m\u001b[1m  No Changes\u001b[22m\u001b[39m to `~/.julia/environments/v1.7/Manifest.toml`\n"
     ]
    }
   ],
   "source": [
    "import Pkg; Pkg.add(\"SPICE\")"
   ]
  },
  {
   "cell_type": "code",
   "execution_count": 2,
   "metadata": {},
   "outputs": [
    {
     "data": {
      "text/plain": [
       "([-9.561252750118901e7, -2.045743839170729e8, -8.601309297738348e7], 806.0297773638883)"
      ]
     },
     "execution_count": 2,
     "metadata": {},
     "output_type": "execute_result"
    }
   ],
   "source": [
    "import SPICE\n",
    "\n",
    "# Load generic kernels\n",
    "SPICE.furnsh(\"/Users/naoya/Google Drive/21_Programming/SPICE/generic_kernels/lsk/naif0012.tls\") # Leap seconds kernel\n",
    "SPICE.furnsh(\"/Users/naoya/Google Drive/21_Programming/SPICE/generic_kernels/pck/gm_de431.tpc\") # Gravity Constant\n",
    "SPICE.furnsh(\"/Users/naoya/Google Drive/21_Programming/SPICE/generic_kernels/spk/planets/de440.bsp\") # Planetary ephemeris kernel\n",
    "\n",
    "# Convert the calendar date to ephemeris seconds past J2000\n",
    "et = SPICE.utc2et(\"2018-02-06T20:45:00\")\n",
    "\n",
    "# Get the position of Mars at `et` w.r.t. Earth\n",
    "SPICE.spkpos(\"mars_barycenter\", et, \"J2000\", \"none\", \"earth\")"
   ]
  },
  {
   "cell_type": "markdown",
   "metadata": {},
   "source": [
    "# 2. 理論編\n",
    "TBW"
   ]
  },
  {
   "cell_type": "markdown",
   "metadata": {},
   "source": [
    "# 3. 実装編\n",
    "\n",
    "## 3.1. 前提条件\n",
    "以下に示す前提条件でランベール問題の実装を進める．"
   ]
  },
  {
   "cell_type": "code",
   "execution_count": 3,
   "metadata": {},
   "outputs": [
    {
     "data": {
      "text/plain": [
       "3-element Vector{Float64}:\n",
       "  2.0803122655020934e8\n",
       "  1.8008145720647745e7\n",
       " -4.721309430616008e6"
      ]
     },
     "execution_count": 3,
     "metadata": {},
     "output_type": "execute_result"
    }
   ],
   "source": [
    "import SPICE\n",
    "# 重力定数\n",
    "μ = SPICE.bodvrd(\"SUN\", \"GM\", 1)[1];\n",
    "\n",
    "# 飛行時間\n",
    "et1 = SPICE.str2et(\"2031/03/01 00:00:00 UTC\") # 地球出発日時, UTC\n",
    "et2 = SPICE.str2et(\"2032/01/01 00:00:00 UTC\") # 火星到着日時, UTC\n",
    "tof = et2 - et1 # 飛行時間\n",
    "\n",
    "#　地球・火星軌道\n",
    "state_earth, _ = SPICE.spkez(399, et1, \"ECLIPJ2000\", \"NONE\", 10)\n",
    "state_mars, _ = SPICE.spkez(4, et2, \"ECLIPJ2000\", \"NONE\", 10)\n",
    "\n",
    "r1 = state_earth[1:3]\n",
    "r2 = state_mars[1:3]"
   ]
  },
  {
   "cell_type": "markdown",
   "metadata": {},
   "source": [
    "## 3.2. ランベール問題のソルバー\n",
    "ランベール問題を解く際に利用される変数\n",
    "$$\n",
    "\\begin{align}\n",
    "c &= \\|\\boldsymbol{r}_2 - \\boldsymbol{r}_1\\| \\\\\n",
    "s &= \\frac{1}{2}\\left(r_1 + r_2 + c\\right) \\\\\n",
    "\\lambda^2 &= 1 - \\frac{c}{s}\n",
    "\\end{align}\n",
    "$$\n",
    "および軌道を規定する基底を計算する．\n"
   ]
  },
  {
   "cell_type": "code",
   "execution_count": 4,
   "metadata": {},
   "outputs": [
    {
     "data": {
      "text/plain": [
       "2.054755701462335"
      ]
     },
     "execution_count": 4,
     "metadata": {},
     "output_type": "execute_result"
    }
   ],
   "source": [
    "using LinearAlgebra\n",
    "\n",
    "# ランベール問題で用いられる幾何学的な変数\n",
    "r1_norm = norm(r1)\n",
    "r2_norm = norm(r2)\n",
    "c = norm(r2-r1)\n",
    "s = 0.5*(r1_norm + r2_norm + c)\n",
    "λ2 = 1.0 - c/s\n",
    "\n",
    "# 無次元化時刻の計算\n",
    "tof_nomdim = sqrt(2.0*μ/(s^3))*tof"
   ]
  },
  {
   "cell_type": "code",
   "execution_count": 5,
   "metadata": {},
   "outputs": [
    {
     "data": {
      "text/plain": [
       "3-element Vector{Float64}:\n",
       " -0.0872249314162494\n",
       "  0.9950288911397668\n",
       " -0.04805535492114194"
      ]
     },
     "execution_count": 5,
     "metadata": {},
     "output_type": "execute_result"
    }
   ],
   "source": [
    "# 基底ベクトル\n",
    "ivec_r1 = r1/r1_norm\n",
    "ivec_r2 = r2/r2_norm\n",
    "ivec_h = cross(ivec_r1, ivec_r2)\n",
    "ivec_h = ivec_h/norm(ivec_h) # 角運動量ベクトル\n",
    "# NOTE: r1ベクトルとr2ベクトルが平行な場合，ivec_hが定義できないため，注意が必要．\n",
    "\n",
    "if ivec_h[3] < 0.0\n",
    "    λ = -sqrt(λ2)\n",
    "    ivec_t1 = -cross(ivec_h, ivec_r1)\n",
    "    ivec_t2 = -cross(ivec_h, ivec_r2)\n",
    "else\n",
    "    λ = sqrt(λ2)\n",
    "    ivec_t1 = cross(ivec_h, ivec_r1)\n",
    "    ivec_t2 = cross(ivec_h, ivec_r2)\n",
    "end"
   ]
  },
  {
   "cell_type": "code",
   "execution_count": 6,
   "metadata": {},
   "outputs": [
    {
     "data": {
      "text/plain": [
       "hypergeometric_₂F₁ (generic function with 5 methods)"
      ]
     },
     "execution_count": 6,
     "metadata": {},
     "output_type": "execute_result"
    }
   ],
   "source": [
    "function x2tof(x, λ, m_max, Δx_battin=0.01, Δx_lagrange=0.2)\n",
    "    \"\"\" A Method that Calculates tof from x\n",
    "    \"\"\"\n",
    "    Δx = abs(x - 1.0)\n",
    "    \n",
    "    if (Δx > Δx_battin) && (Δx < Δx_lagrange)\n",
    "        # Use Lagrange TOF Expression\n",
    "        a = 1.0 / (1.0 - x^2) # Non dimensional semi-major axis\n",
    "        if a > 0 # Ellipse\n",
    "            α = 2.0*acos(x)\n",
    "            β = 2.0*asin(λ/sqrt(a))\n",
    "            tof = 0.5 * a^(3/2)*( (α-sin(α)) - (β-sin(β)) + 2.0*m_max*π ) # Non dimensinal TOF\n",
    "\n",
    "        else # Hyperbola\n",
    "            α = 2.0*acosh(x)\n",
    "            β = 2.0*asinh(λ/sqrt(a))\n",
    "            tof = - 0.5 * (-a)^(3/2)*( (α-sinh(α)) - (β-sinh(β)) ) # Non dimensinal TOF\n",
    "\n",
    "        end\n",
    "\n",
    "    elseif (Δx < Δx_battin)\n",
    "        # Use Battin Series TOF Expression\n",
    "        ρ = abs(x^2 - 1.0)\n",
    "        y = sqrt(1.0 + λ^2*(x^2 - 1.0))\n",
    "        η = y - λ*x\n",
    "        s1 = 0.5*(1.0 - λ - x*η)\n",
    "        q = 4.0/3.0*hypergeometric_₂F₁(s1)\n",
    "        tof = (η^3*q + 4.0*λ*η)/2.0 + m_max*π/(ρ^1.5)\n",
    "\n",
    "    else\n",
    "        # Use Lancaster TOF Expression\n",
    "        e = x^2 - 1.0\n",
    "        ρ = sqrt(abs(e))\n",
    "        y = sqrt(1.0 + λ^2*e)\n",
    "        if (e<0.0)\n",
    "            d = m_max*π + acos(x*y - λ*e)\n",
    "        else\n",
    "            d = log(ρ*(y-λ*x) + (x*y-λ*e))\n",
    "        end\n",
    "        tof = (x - λ*y - d/ρ)/e\n",
    "\n",
    "    end \n",
    "\n",
    "    return tof\n",
    "end\n",
    "\n",
    "function hypergeometric_₂F₁(z,a=3.0,b=1.0,c=2.5,tol=1.0e-11)\n",
    "    # Initilization\n",
    "    sj, cj, sj1, cj1, err = 1.0, 1.0, 0.0, 0.0, 1.0\n",
    "\n",
    "    # Iteration\n",
    "    j = 0\n",
    "    while (err > tol) \n",
    "        cj1 = cj * (a+j)*(b+j)/(c+j)*z/(j+1)\n",
    "        sj1 = sj + cj1\n",
    "        err = abs(cj1)\n",
    "        sj, cj = sj1, cj1\n",
    "        j += 1\n",
    "        if j > 1000\n",
    "            println(\"ERROR: Hypergeometric Function Reaches Maximum Iteration.\")\n",
    "            break\n",
    "        end\n",
    "    end\n",
    "\n",
    "    return sj\n",
    "end"
   ]
  },
  {
   "cell_type": "markdown",
   "metadata": {},
   "source": [
    "### x, yの解法\n",
    "$\\lambda$と$T$を入力として，$x, y$を計算する．\n"
   ]
  },
  {
   "cell_type": "code",
   "execution_count": 7,
   "metadata": {},
   "outputs": [
    {
     "data": {
      "text/plain": [
       "find_tof_min_by_halley_method (generic function with 3 methods)"
      ]
     },
     "execution_count": 7,
     "metadata": {},
     "output_type": "execute_result"
    }
   ],
   "source": [
    "function find_xy(λ, tof, m_multi_revs)\n",
    "    # Requirements\n",
    "    if abs(λ) >= 1\n",
    "        error(\"ERROR: Lambda must be more than 1.\")\n",
    "    end\n",
    "    if tof < 0\n",
    "        error(\"ERROR: Non dimensional tof must be a positive number.\")\n",
    "    end\n",
    "\n",
    "    # ----------------\n",
    "    # 1. Detect m_max\n",
    "    m_max = floor(tof/π)\n",
    "    t_00 = acos(λ) + λ*sqrt(1-λ^2) # Eq.(19) in Ref[1]\n",
    "    t_0m = t_00 + m_max*π # Minimum Energy Transfer Time: Eq.(19) in Ref[1]\n",
    "    t_1 = 2.0/3.0*(1.0 - λ^3)\n",
    "\n",
    "    if (m_max > 0) && (tof < t_0m)\n",
    "        x_tmin, t_min = find_tof_min_by_halley_method(0.0,t_0m,λ,m_max)\n",
    "\n",
    "        if tof < t_min\n",
    "            m_max -= 1\n",
    "        end\n",
    "    end\n",
    "\n",
    "    # Crop m_max to m_multi_revs\n",
    "    m_max = Int8(min(m_multi_revs, m_max))\n",
    "\n",
    "    # ----------------\n",
    "    # 2. Calculate All Solutions in x,y\n",
    "    x_all = zeros(2*m_max+1)\n",
    "    iter_all = zeros(Int16,2*m_max+1)\n",
    "\n",
    "    # 2.1. Single Revolution Solution\n",
    "    # Initial guess\n",
    "    if tof >= t_00\n",
    "        x_all[1] = (t_00/tof)^(2/3) - 1.0\n",
    "    elseif tof <= t_1\n",
    "        x_all[1] =  (5.0*t_1*(t_1-tof))/(2.0*tof*(1-λ^5)) + 1.0\n",
    "    else\n",
    "        x_all[1] = (t_00/tof)^(log2(t_1/t_00)) - 1.0\n",
    "    end\n",
    "\n",
    "    # Householder iterations\n",
    "    iter_all[1], x_all[1] = find_x_by_householder(tof,x_all[1],λ,0,1.0e-5)\n",
    "\n",
    "    # 2.2. Multi Revolution Solution\n",
    "    for i=1:m_max\n",
    "        # Left Householder iterations\n",
    "        temp = ((i*π+π)/(8.0*tof))^(2.0/3.0)\n",
    "        x_all[2*i] = (temp-1.0)/(temp+1.0)\n",
    "        iter_all[2*i], x_all[2*i] = find_x_by_householder(tof,x_all[2*i],λ,i)\n",
    "\n",
    "        # Right Householder iterations\n",
    "        temp = ((8.0*tof)/(i*π))^(2.0/3.0)\n",
    "        x_all[2*i+1] = (temp-1.0)/(temp+1.0)\n",
    "        iter_all[2*i+1], x_all[2*i+1] = find_x_by_householder(tof,x_all[2*i+1],λ,i)\n",
    "    end\n",
    "    \n",
    "    return iter_all, x_all\n",
    "end\n",
    "\n",
    "\n",
    "function find_x_by_householder(tof, xn, λ, m, tol_Δx=1.0e-8, max_iter=15)\n",
    "    \"\"\"\n",
    "    Find x that satisfies f(x)=tn(x)-tof=0 by Householder's method\n",
    "    \"\"\"\n",
    "    iter = 0\n",
    "    while true\n",
    "        tn = x2tof(xn,λ,m)\n",
    "        yn = sqrt(1.0 - λ^2*(1.0-xn^2))\n",
    "        # Eqs.(22) in Ref[1]\n",
    "        f(x,t) = t-tof\n",
    "        df_dx(x,t) = (3.0*t*x - 2.0 + 2.0*λ^3*x/yn)/(1.0-x^2)\n",
    "        d2f_dx2(x,t) = (3.0*t + 5.0*x*df_dx(x,t) + 2.0*(1.0-λ^2)*(λ^3)/(yn^3))/(1.0-x^2)\n",
    "        d3f_dx3(x,t) = (7.0*x*d2f_dx2(x,t) + 8.0*df_dx(x,t) - 6.0*(1.0-λ^2)*(λ^5)*x/(yn^5))/(1.0-x^2)\n",
    "\n",
    "        # Householder's Method\n",
    "        xn_new = xn - f(xn,tn)*( \n",
    "            (df_dx(xn,tn)^2 - 0.5*f(xn,tn)*d2f_dx2(xn,tn))\n",
    "            / (df_dx(xn,tn)*(df_dx(xn,tn)^2 - f(xn,tn)*d2f_dx2(xn,tn)) + d3f_dx3(xn,tn)*(f(xn,tn)^2)/6.0 )\n",
    "        ) \n",
    "\n",
    "        # Break condition\n",
    "        if abs(xn_new - xn) < tol_Δx\n",
    "            tn = x2tof(xn_new,λ,m)\n",
    "            return iter, xn_new\n",
    "        elseif iter > max_iter\n",
    "            println(\"Householder iteration reaches maximum iteration!\")\n",
    "            tn = x2tof(xn_new,λ,m)\n",
    "            return iter, xn_new\n",
    "        end\n",
    "\n",
    "        # Update the value\n",
    "        xn = xn_new\n",
    "        iter += 1\n",
    "\n",
    "    end\n",
    "\n",
    "end\n",
    "\n",
    "\n",
    "function find_tof_min_by_halley_method(xn, tn, λ, m_max, tol_Δx = 1.0e-13, max_iter=12)\n",
    "    \"\"\"\n",
    "    Find minimum value of transfer time by Halley's method\n",
    "    \"\"\"\n",
    "    iter = 0\n",
    "    while true\n",
    "        yn = sqrt(1.0 - λ^2*(1.0-xn^2))\n",
    "        # Eqs.(22) in Ref[1]\n",
    "        dt_dx(x,t) = (3.0*t*x - 2.0 + 2.0*λ^3*x/yn)/(1.0-x^2)\n",
    "        d2t_dx2(x,t) = (3.0*t + 5.0*x*dt_dx(x,t) + 2.0*(1.0-λ^2)*(λ^3)/(yn^3))/(1.0-x^2)\n",
    "        d3t_dx3(x,t) = (7.0*x*d2t_dx2(x,t) + 8.0*dt_dx(x,t) - 6.0*(1.0-λ^2)*(λ^5)*x/(yn^5))/(1.0-x^2)\n",
    "\n",
    "        # Halley's Method\n",
    "        xn_new = xn - (2.0*dt_dx(xn,tn)*d2t_dx2(xn,tn))/(2.0*(d2t_dx2(xn,tn)^2) - dt_dx(xn,tn)*d3t_dx3(xn,tn))\n",
    "\n",
    "        # Break condition\n",
    "        if abs(xn_new - xn) < tol_Δx\n",
    "            tn = x2tof(xn_new,λ,m_max)\n",
    "            return xn_new, tn\n",
    "        elseif iter > max_iter\n",
    "            println(\"Halley iteration reaches maximum iteration!\")\n",
    "            tn = x2tof(xn_new,λ,m_max)\n",
    "            return xn_new, tn\n",
    "        end\n",
    "\n",
    "        # Update the value\n",
    "        tn = x2tof(xn_new, λ, m_max)\n",
    "        xn = xn_new\n",
    "        iter += 1\n",
    "\n",
    "    end\n",
    "end\n"
   ]
  },
  {
   "cell_type": "markdown",
   "metadata": {},
   "source": [
    "### 出発・到着時の速度を計算"
   ]
  },
  {
   "cell_type": "code",
   "execution_count": 8,
   "metadata": {},
   "outputs": [
    {
     "data": {
      "text/plain": [
       "([-12.146901903784702 -30.249196666164888 1.7328230818673045], [-5.062557143526499 22.77374756805452 -1.0435265077509397])"
      ]
     },
     "execution_count": 8,
     "metadata": {},
     "output_type": "execute_result"
    }
   ],
   "source": [
    "# Calculate x\n",
    "iter_all, x_all = find_xy(λ,tof_nomdim,2)\n",
    "\n",
    "# Calculate Terminal Velocities\n",
    "vvec_1_all = zeros(size(x_all)[1],3)\n",
    "vvec_2_all = zeros(size(x_all)[1],3)\n",
    "\n",
    "γ = sqrt(0.5*μ*s)\n",
    "ρ = (r1_norm - r2_norm)/c\n",
    "σ = sqrt(1.0-ρ^2)\n",
    "\n",
    "for i = 1:(size(x_all)[1])\n",
    "    # Calculate Velocity Norm\n",
    "    x = x_all[i]\n",
    "    y = sqrt(1.0 - λ^2*(1.0-x^2))\n",
    "    v_r1 = γ*((λ*y-x) - ρ*(λ*y+x))/r1_norm\n",
    "    v_r2 = -γ*((λ*y-x) + ρ*(λ*y+x))/r2_norm\n",
    "    v_t1 = γ*σ*(y+λ*x)/r1_norm\n",
    "    v_t2 = γ*σ*(y+λ*x)/r2_norm\n",
    "\n",
    "    # Calculate Velocity Vectors\n",
    "    vvec_1_all[i,:] = v_r1*ivec_r1 + v_t1*ivec_t1\n",
    "    vvec_2_all[i,:] = v_r2*ivec_r2 + v_t2*ivec_t2\n",
    "end\n",
    "\n",
    "vvec_1_all, vvec_2_all"
   ]
  }
 ],
 "metadata": {
  "kernelspec": {
   "display_name": "Julia 1.7.2",
   "language": "julia",
   "name": "julia-1.7"
  },
  "language_info": {
   "file_extension": ".jl",
   "mimetype": "application/julia",
   "name": "julia",
   "version": "1.7.2"
  },
  "orig_nbformat": 4,
  "vscode": {
   "interpreter": {
    "hash": "aee8b7b246df8f9039afb4144a1f6fd8d2ca17a180786b69acc140d282b71a49"
   }
  }
 },
 "nbformat": 4,
 "nbformat_minor": 2
}
