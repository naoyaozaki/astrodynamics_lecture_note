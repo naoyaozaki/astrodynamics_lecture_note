{
 "cells": [
  {
   "cell_type": "markdown",
   "metadata": {},
   "source": [
    "---\n",
    "title: \"Juliaを用いたランベール問題のソルバーに関するノートブック\" \\\n",
    "author: \"Naoya Ozaki\" \\\n",
    "date: \"04 June 2022\" \\\n",
    "output: \"lambert_problem_via_julia\"\n",
    "\n",
    "---\n",
    "\n",
    "# Juliaを用いたランベール問題のソルバーに関するノートブック\n",
    "数値計算分野で用いられるJuliaを用いてランベール問題(Lambert's Problem)の解法を実装してみよう．"
   ]
  },
  {
   "cell_type": "markdown",
   "metadata": {},
   "source": [
    "# 1. はじめに\n",
    "ランベール問題とは，二体問題の力学環境下において，初期位置$\\boldsymbol{r}_0$と終端位置$\\boldsymbol{r}_\\textrm{f}$と遷移時間TOF($=t_f-t_0$)が与えられた時に，初期速度$\\boldsymbol{v}_0$と終端速度$\\boldsymbol{v}_\\textrm{f}$を解く問題であり，二点境界値問題の一種である．与えられた$\\boldsymbol{r}_0$, $\\boldsymbol{r}_\\textrm{f}$, TOFを満たす解は複数存在する（＝一意に定まらない）ため，複数の解が出力される必要がある．`pykep`等でランベール問題用ソルバーが提供されているが，ここではゼロから実装することを考える．本実装を進める上で参考となる論文を以下に挙げる．\n",
    "\n",
    "### 参考文献・論文\n",
    "1. Dario Izzo, \"Revisiting Lambert's problem\", Celestial Mechanics and Dynamical Astoronomy, 2015, Vol 121, pp 1-15.\n",
    "2. R. H. Battin, \"An Introduction to the Mathematics and Methods of Astrodynamics, Revised Version\", 1999, AIAA Education Series.\n",
    "3. PyKEP (https://esa.github.io/pykep/) access on Nov.2017.\n",
    "4. Fortran-Astrodynamics-Toolkit(https://github.com/jacobwilliams/Fortran-Astrodynamics-Toolkit) access on Nov.2017.\n",
    "\n",
    "### Julia用のNAIF SPICE Toolkitのインストール\n",
    "以下のGithubからインストールすることが可能である．\\\n",
    "https://github.com/JuliaAstro/SPICE.jl\n",
    "\n",
    "参考情報：\\\n",
    "Acton, C.H.; \"Ancillary Data Services of NASA's Navigation and Ancillary Information Facility;\" Planetary and Space Science, Vol. 44, No. 1, pp. 65-70, 1996."
   ]
  },
  {
   "cell_type": "code",
   "execution_count": 2,
   "metadata": {},
   "outputs": [
    {
     "name": "stderr",
     "output_type": "stream",
     "text": [
      "\u001b[32m\u001b[1m   Updating\u001b[22m\u001b[39m registry at `~/.julia/registries/General`\n"
     ]
    },
    {
     "name": "stderr",
     "output_type": "stream",
     "text": [
      "\r###                                                                        4.5%"
     ]
    },
    {
     "name": "stderr",
     "output_type": "stream",
     "text": [
      "\r##############################                                            42.4%"
     ]
    },
    {
     "name": "stderr",
     "output_type": "stream",
     "text": [
      "\r########################################################                  78.3%"
     ]
    },
    {
     "name": "stderr",
     "output_type": "stream",
     "text": [
      "\r#######################################################################   99.5%\r######################################################################## 100.0%\n"
     ]
    },
    {
     "name": "stderr",
     "output_type": "stream",
     "text": [
      "\u001b[32m\u001b[1m  Resolving\u001b[22m\u001b[39m package versions...\n"
     ]
    },
    {
     "name": "stderr",
     "output_type": "stream",
     "text": [
      "\u001b[32m\u001b[1m  Installed\u001b[22m\u001b[39m nghttp2_jll ─────────── v1.40.0+2\n",
      "\u001b[32m\u001b[1m  Installed\u001b[22m\u001b[39m CSPICE_jll ──────────── v66.1.0+0\n",
      "\u001b[32m\u001b[1m  Installed\u001b[22m\u001b[39m LibSSH2_jll ─────────── v1.9.0+3\n",
      "\u001b[32m\u001b[1m  Installed\u001b[22m\u001b[39m Adapt ───────────────── v3.3.3\n"
     ]
    },
    {
     "name": "stderr",
     "output_type": "stream",
     "text": [
      "\u001b[32m\u001b[1m  Installed\u001b[22m\u001b[39m TensorCore ──────────── v0.1.1\n",
      "\u001b[32m\u001b[1m  Installed\u001b[22m\u001b[39m SPICE ───────────────── v0.2.2\n",
      "\u001b[32m\u001b[1m  Installed\u001b[22m\u001b[39m "
     ]
    },
    {
     "name": "stderr",
     "output_type": "stream",
     "text": [
      "LogExpFunctions ─────── v0.3.15\n"
     ]
    },
    {
     "name": "stderr",
     "output_type": "stream",
     "text": [
      "\u001b[32m\u001b[1m  Installed\u001b[22m\u001b[39m StatsBase ───────────── v0.33.16\n"
     ]
    },
    {
     "name": "stderr",
     "output_type": "stream",
     "text": [
      "\u001b[32m\u001b[1m  Installed\u001b[22m\u001b[39m SortingAlgorithms ───── v1.0.1\n",
      "\u001b[32m\u001b[1m  Installed\u001b[22m\u001b[39m ArgTools ────────────── v1.1.1\n",
      "\u001b[32m\u001b[1m  Installed\u001b[22m\u001b[39m OrderedCollections ──── v1.4.1\n",
      "\u001b[32m\u001b[1m  Installed\u001b[22m\u001b[39m "
     ]
    },
    {
     "name": "stderr",
     "output_type": "stream",
     "text": [
      "StructArrays ────────── v0.6.8\n",
      "\u001b[32m\u001b[1m  Installed\u001b[22m\u001b[39m "
     ]
    },
    {
     "name": "stderr",
     "output_type": "stream",
     "text": [
      "MacroTools ──────────── v0.5.9\n"
     ]
    },
    {
     "name": "stderr",
     "output_type": "stream",
     "text": [
      "\u001b[32m\u001b[1m  Installed\u001b[22m\u001b[39m DataStructures ──────── v0.18.13\n",
      "\u001b[32m\u001b[1m  Installed\u001b[22m\u001b[39m StaticArrays ────────── v1.3.6\n"
     ]
    },
    {
     "name": "stderr",
     "output_type": "stream",
     "text": [
      "\u001b[32m\u001b[1m  Installed\u001b[22m\u001b[39m Zstd_jll ────────────── v1.4.8+0\n",
      "\u001b[32m\u001b[1m  Installed\u001b[22m\u001b[39m LaTeXStrings ────────── v1.3.0\n"
     ]
    },
    {
     "name": "stderr",
     "output_type": "stream",
     "text": [
      "\u001b[32m\u001b[1m  Installed\u001b[22m\u001b[39m Compat ──────────────── v3.45.0\n"
     ]
    },
    {
     "name": "stderr",
     "output_type": "stream",
     "text": [
      "\u001b[32m\u001b[1m  Installed\u001b[22m\u001b[39m "
     ]
    },
    {
     "name": "stderr",
     "output_type": "stream",
     "text": [
      "VersionParsing ──────── v1.3.0\n",
      "\u001b[32m\u001b[1m  Installed\u001b[22m\u001b[39m IniFile ─────────────── v0.5.1\n",
      "\u001b[32m\u001b[1m  Installed\u001b[22m\u001b[39m ColorTypes ──────────── v0.11.3\n"
     ]
    },
    {
     "name": "stderr",
     "output_type": "stream",
     "text": [
      "\u001b[32m\u001b[1m  Installed\u001b[22m\u001b[39m "
     ]
    },
    {
     "name": "stderr",
     "output_type": "stream",
     "text": [
      "LibCURL ─────────────── v0.6.3\n",
      "\u001b[32m\u001b[1m  Installed\u001b[22m\u001b[39m Wayland_protocols_jll ─ v1.25.0+0\n",
      "\u001b[32m\u001b[1m  Installed\u001b[22m\u001b[39m LibCURL_jll ─────────── v7.70.0+2\n"
     ]
    },
    {
     "name": "stderr",
     "output_type": "stream",
     "text": [
      "\u001b[32m\u001b[1m  Installed\u001b[22m\u001b[39m Scratch ─────────────── v1.1.0\n",
      "\u001b[32m\u001b[1m  Installed\u001b[22m\u001b[39m IterTools ───────────── v1.4.0\n",
      "\u001b[32m\u001b[1m  Installed\u001b[22m\u001b[39m Parsers ─────────────── v2.3.1\n",
      "\u001b[32m\u001b[1m  Installed\u001b[22m\u001b[39m Preferences ─────────── v1.3.0\n",
      "\u001b[32m\u001b[1m  Installed\u001b[22m\u001b[39m JSON ────────────────── v0.21.3\n",
      "\u001b[32m\u001b[1m  Installed\u001b[22m\u001b[39m Downloads ───────────── v1.6.0\n"
     ]
    },
    {
     "name": "stderr",
     "output_type": "stream",
     "text": [
      "\u001b[32m\u001b[1m  Installed\u001b[22m\u001b[39m "
     ]
    },
    {
     "name": "stderr",
     "output_type": "stream",
     "text": [
      "Latexify ────────────── v0.14.12\n"
     ]
    },
    {
     "name": "stderr",
     "output_type": "stream",
     "text": [
      "\u001b[32m\u001b[1m  Installed\u001b[22m\u001b[39m PlotUtils ───────────── v1.0.15\n",
      "\u001b[32m\u001b[1m  Installed\u001b[22m\u001b[39m PlotThemes ──────────── v2.0.1\n",
      "\u001b[32m\u001b[1m  Installed\u001b[22m\u001b[39m "
     ]
    },
    {
     "name": "stderr",
     "output_type": "stream",
     "text": [
      "IrrationalConstants ─── v0.1.1\n",
      "\u001b[32m\u001b[1m  Installed\u001b[22m\u001b[39m DataAPI ─────────────── v1.10.0\n",
      "\u001b[32m\u001b[1m  Installed\u001b[22m\u001b[39m Conda ───────────────── v1.7.0\n",
      "\u001b[32m\u001b[1m  Installed\u001b[22m\u001b[39m Requires ────────────── v1.3.0\n",
      "\u001b[32m\u001b[1m  Installed\u001b[22m\u001b[39m Colors ──────────────── v0.12.8\n"
     ]
    },
    {
     "name": "stderr",
     "output_type": "stream",
     "text": [
      "\u001b[32m\u001b[1m  Installed\u001b[22m\u001b[39m FFMPEG ──────────────── v0.4.1\n"
     ]
    },
    {
     "name": "stderr",
     "output_type": "stream",
     "text": [
      "\u001b[32m\u001b[1m  Installed\u001b[22m\u001b[39m Qt5Base_jll ─────────── v5.15.2+0\n",
      "\u001b[32m\u001b[1m  Installed\u001b[22m\u001b[39m GR_jll ──────────────── v0.58.1+0\n"
     ]
    },
    {
     "name": "stderr",
     "output_type": "stream",
     "text": [
      "\u001b[32m\u001b[1m  Installed\u001b[22m\u001b[39m Missings ────────────── v1.0.2\n",
      "\u001b[32m\u001b[1m  Installed\u001b[22m\u001b[39m StatsAPI ────────────── v1.3.0\n",
      "\u001b[32m\u001b[1m  Installed\u001b[22m\u001b[39m ColorVectorSpace ────── v0.9.9\n",
      "\u001b[32m\u001b[1m  Installed\u001b[22m\u001b[39m RecipesBase ─────────── v1.2.1\n",
      "\u001b[32m\u001b[1m  Installed\u001b[22m\u001b[39m "
     ]
    },
    {
     "name": "stderr",
     "output_type": "stream",
     "text": [
      "ChainRulesCore ──────── v1.12.2\n"
     ]
    },
    {
     "name": "stderr",
     "output_type": "stream",
     "text": [
      "\u001b[32m\u001b[1m  Installed\u001b[22m\u001b[39m "
     ]
    },
    {
     "name": "stderr",
     "output_type": "stream",
     "text": [
      "Grisu ───────────────── v1.0.2\n",
      "\u001b[32m\u001b[1m  Installed\u001b[22m\u001b[39m OpenSpecFun_jll ─────── v0.5.3+4\n",
      "\u001b[32m\u001b[1m  Installed\u001b[22m\u001b[39m Libiconv_jll ────────── v1.16.0+8\n",
      "\u001b[32m\u001b[1m  Installed\u001b[22m\u001b[39m Tables ──────────────── v1.7.0\n",
      "\u001b[32m\u001b[1m  Installed\u001b[22m\u001b[39m PyCall ──────────────── v1.93.1\n"
     ]
    },
    {
     "name": "stderr",
     "output_type": "stream",
     "text": [
      "\u001b[32m\u001b[1m  Installed\u001b[22m\u001b[39m GeometryBasics ──────── v0.3.13\n"
     ]
    },
    {
     "name": "stderr",
     "output_type": "stream",
     "text": [
      "\u001b[32m\u001b[1m  Installed\u001b[22m\u001b[39m MozillaCACerts_jll ──── v2022.3.29+0\n",
      "\u001b[32m\u001b[1m  Installed\u001b[22m\u001b[39m NetworkOptions ──────── v1.2.0\n",
      "\u001b[32m\u001b[1m  Installed\u001b[22m\u001b[39m TableTraits ─────────── v1.0.1\n",
      "\u001b[32m\u001b[1m  Installed\u001b[22m\u001b[39m SpecialFunctions ────── v2.1.6\n"
     ]
    },
    {
     "name": "stderr",
     "output_type": "stream",
     "text": [
      "\u001b[32m\u001b[1m  Installed\u001b[22m\u001b[39m JLLWrappers ─────────── v1.4.1\n",
      "\u001b[32m\u001b[1m  Installed\u001b[22m\u001b[39m "
     ]
    },
    {
     "name": "stderr",
     "output_type": "stream",
     "text": [
      "DocStringExtensions ─── v0.8.6\n"
     ]
    },
    {
     "name": "stderr",
     "output_type": "stream",
     "text": [
      "\u001b[32m\u001b[1m  Installed\u001b[22m\u001b[39m TOML ────────────────── v1.0.3\n",
      "\u001b[32m\u001b[1m  Installed\u001b[22m\u001b[39m OpenLibm_jll ────────── v0.7.1+0\n",
      "\u001b[32m\u001b[1m  Installed\u001b[22m\u001b[39m GLFW_jll ────────────── v3.3.4+0\n",
      "\u001b[32m\u001b[1m  Installed\u001b[22m\u001b[39m NaNMath ─────────────── v0.3.7\n",
      "\u001b[32m\u001b[1m  Installed\u001b[22m\u001b[39m InverseFunctions ────── v0.1.4\n",
      "\u001b[32m\u001b[1m  Installed\u001b[22m\u001b[39m ChangesOfVariables ──── v0.1.3\n"
     ]
    },
    {
     "name": "stderr",
     "output_type": "stream",
     "text": [
      "\u001b[32m\u001b[1m  Installed\u001b[22m\u001b[39m ColorSchemes ────────── v3.18.0\n"
     ]
    },
    {
     "name": "stderr",
     "output_type": "stream",
     "text": [
      "\u001b[32m\u001b[1mUpdating\u001b[22m\u001b[39m `~/.julia/environments/v1.5/Project.toml`\n",
      " \u001b[90m [5bab7191] \u001b[39m\u001b[92m+ SPICE v0.2.2\u001b[39m\n"
     ]
    },
    {
     "name": "stderr",
     "output_type": "stream",
     "text": [
      "\u001b[32m\u001b[1mUpdating\u001b[22m\u001b[39m `~/.julia/environments/v1.5/Manifest.toml`\n",
      " \u001b[90m [79e6a3ab] \u001b[39m"
     ]
    },
    {
     "name": "stderr",
     "output_type": "stream",
     "text": [
      "\u001b[93m↑ Adapt v2.3.0 ⇒ v3.3.3\u001b[39m\n",
      " \u001b[90m [0dad84c5] \u001b[39m\u001b[92m+ ArgTools v1.1.1\u001b[39m\n",
      " \u001b[90m [07f52509] \u001b[39m\u001b[92m+ CSPICE_jll v66.1.0+0\u001b[39m\n",
      " \u001b[90m [d360d2e6] \u001b[39m\u001b[92m+ ChainRulesCore v1.12.2\u001b[39m\n",
      " \u001b[90m [9e997f8a] \u001b[39m\u001b[92m+ ChangesOfVariables v0.1.3\u001b[39m\n",
      " \u001b[90m [35d6a980] \u001b[39m\u001b[93m↑ ColorSchemes v3.10.2 ⇒ v3.18.0\u001b[39m\n",
      " \u001b[90m [3da002f7] \u001b[39m\u001b[93m↑ ColorTypes v0.10.9 ⇒ v0.11.3\u001b[39m\n",
      " \u001b[90m [c3611d14] \u001b[39m\u001b[92m+ ColorVectorSpace v0.9.9\u001b[39m\n",
      " \u001b[90m [5ae59095] \u001b[39m\u001b[93m↑ Colors v0.12.4 ⇒ v0.12.8\u001b[39m\n",
      " \u001b[90m [34da2185] \u001b[39m\u001b[93m↑ Compat v3.23.0 ⇒ v3.45.0\u001b[39m\n",
      " \u001b[90m [8f4d0f93] \u001b[39m\u001b[93m↑ Conda v1.5.0 ⇒ v1.7.0\u001b[39m\n",
      " \u001b[90m [9a962f9c] \u001b[39m\u001b[93m↑ DataAPI v1.4.0 ⇒ v1.10.0\u001b[39m\n",
      " \u001b[90m [864edb3b] \u001b[39m\u001b[93m↑ DataStructures v0.18.8 ⇒ v0.18.13\u001b[39m\n",
      " \u001b[90m [ffbed154] \u001b[39m\u001b[92m+ DocStringExtensions v0.8.6\u001b[39m\n",
      " \u001b[90m [f43a241f] \u001b[39m\u001b[92m+ Downloads v1.6.0\u001b[39m\n",
      " \u001b[90m [c87230d0] \u001b[39m\u001b[93m↑ FFMPEG v0.4.0 ⇒ v0.4.1\u001b[39m\n",
      " \u001b[90m [0656b61e] \u001b[39m\u001b[93m↑ GLFW_jll v3.3.2+1 ⇒ v3.3.4+0\u001b[39m\n",
      " \u001b[90m [d2c73de3] \u001b[39m\u001b[93m↑ GR_jll v0.53.0+0 ⇒ v0.58.1+0\u001b[39m\n",
      " \u001b[90m [5c1252a2] \u001b[39m\u001b[93m↑ GeometryBasics v0.3.4 ⇒ v0.3.13\u001b[39m\n",
      " \u001b[90m [42e2da0e] \u001b[39m\u001b[93m↑ Grisu v1.0.0 ⇒ v1.0.2\u001b[39m\n",
      " \u001b[90m [83e8ac13] \u001b[39m\u001b[93m↑ IniFile v0.5.0 ⇒ v0.5.1\u001b[39m\n",
      " \u001b[90m [3587e190] \u001b[39m\u001b[92m+ InverseFunctions v0.1.4\u001b[39m\n",
      " \u001b[90m [92d709cd] \u001b[39m\u001b[92m+ IrrationalConstants v0.1.1\u001b[39m\n",
      " \u001b[90m [c8e1da08] \u001b[39m\u001b[93m↑ IterTools v1.3.0 ⇒ v1.4.0\u001b[39m\n",
      " \u001b[90m [692b3bcd] \u001b[39m\u001b[93m↑ JLLWrappers v1.1.3 ⇒ v1.4.1\u001b[39m\n",
      " \u001b[90m [682c06a0] \u001b[39m\u001b[93m↑ JSON v0.21.1 ⇒ v0.21.3\u001b[39m\n",
      " \u001b[90m [b964fa9f] \u001b[39m\u001b[93m↑ LaTeXStrings v1.2.0 ⇒ v1.3.0\u001b[39m\n",
      " \u001b[90m [23fbe1c1] \u001b[39m\u001b[93m↑ Latexify v0.14.6 ⇒ v0.14.12\u001b[39m\n",
      " \u001b[90m [b27032c2] \u001b[39m\u001b[92m+ LibCURL v0.6.3\u001b[39m\n",
      " \u001b[90m [deac9b47] \u001b[39m\u001b[92m+ LibCURL_jll v7.70.0+2\u001b[39m\n",
      " \u001b[90m [29816b5a] \u001b[39m\u001b[92m+ LibSSH2_jll v1.9.0+3\u001b[39m\n",
      " \u001b[90m [94ce4f54] \u001b[39m\u001b[93m↑ Libiconv_jll v1.16.0+7 ⇒ v1.16.0+8\u001b[39m\n",
      " \u001b[90m [2ab3a3ac] \u001b[39m\u001b[92m+ LogExpFunctions v0.3.15\u001b[39m\n",
      " \u001b[90m [1914dd2f] \u001b[39m\u001b[93m↑ MacroTools v0.5.6 ⇒ v0.5.9\u001b[39m\n",
      " \u001b[90m [e1d29d7a] \u001b[39m\u001b[93m↑ Missings v0.4.4 ⇒ v1.0.2\u001b[39m\n",
      " \u001b[90m [14a3606d] \u001b[39m\u001b[92m+ MozillaCACerts_jll v2022.3.29+0\u001b[39m\n",
      " \u001b[90m [77ba4419] \u001b[39m\u001b[93m↑ NaNMath v0.3.5 ⇒ v0.3.7\u001b[39m\n",
      " \u001b[90m [ca575930] \u001b[39m\u001b[92m+ NetworkOptions v1.2.0\u001b[39m\n",
      " \u001b[90m [05823500] \u001b[39m\u001b[92m+ OpenLibm_jll v0.7.1+0\u001b[39m\n"
     ]
    },
    {
     "name": "stderr",
     "output_type": "stream",
     "text": [
      " \u001b[90m [efe28fd5] \u001b[39m\u001b[92m+ OpenSpecFun_jll v0.5.3+4\u001b[39m\n",
      " \u001b[90m [bac558e1] \u001b[39m\u001b[93m↑ OrderedCollections v1.3.2 ⇒ v1.4.1\u001b[39m\n",
      " \u001b[90m [69de0a69] \u001b[39m\u001b[93m↑ Parsers v1.0.14 ⇒ v2.3.1\u001b[39m\n",
      " \u001b[90m [ccf2f8ad] \u001b[39m\u001b[93m↑ PlotThemes v2.0.0 ⇒ v2.0.1\u001b[39m\n",
      " \u001b[90m [995b91a9] \u001b[39m\u001b[93m↑ PlotUtils v1.0.8 ⇒ v1.0.15\u001b[39m\n",
      " \u001b[90m [21216c6a] \u001b[39m\u001b[92m+ Preferences v1.3.0\u001b[39m\n",
      " \u001b[90m [438e738f] \u001b[39m\u001b[93m↑ PyCall v1.92.1 ⇒ v1.93.1\u001b[39m\n",
      " \u001b[90m [ea2cea3b] \u001b[39m\u001b[92m+ Qt5Base_jll v5.15.2+0\u001b[39m\n",
      " \u001b[90m [ede63266] \u001b[39m\u001b[91m- Qt_jll v5.15.2+0\u001b[39m\n",
      " \u001b[90m [3cdcf5f2] \u001b[39m\u001b[93m↑ RecipesBase v1.1.1 ⇒ v1.2.1\u001b[39m\n",
      " \u001b[90m [ae029012] \u001b[39m\u001b[93m↑ Requires v1.1.1 ⇒ v1.3.0\u001b[39m\n",
      " \u001b[90m [5bab7191] \u001b[39m\u001b[92m+ SPICE v0.2.2\u001b[39m\n",
      " \u001b[90m [6c6a2e73] \u001b[39m\u001b[93m↑ Scratch v1.0.3 ⇒ v1.1.0\u001b[39m\n",
      " \u001b[90m [a2af1166] \u001b[39m\u001b[93m↑ SortingAlgorithms v0.3.1 ⇒ v1.0.1\u001b[39m\n",
      " \u001b[90m [276daf66] \u001b[39m\u001b[92m+ SpecialFunctions v2.1.6\u001b[39m\n",
      " \u001b[90m [90137ffa] \u001b[39m\u001b[93m↑ StaticArrays v1.0.1 ⇒ v1.3.6\u001b[39m\n",
      " \u001b[90m [82ae8749] \u001b[39m\u001b[92m+ StatsAPI v1.3.0\u001b[39m\n",
      " \u001b[90m [2913bbd2] \u001b[39m\u001b[93m↑ StatsBase v0.33.2 ⇒ v0.33.16\u001b[39m\n",
      " \u001b[90m [09ab397b] \u001b[39m\u001b[93m↑ StructArrays v0.4.4 ⇒ v0.6.8\u001b[39m\n",
      " \u001b[90m [fa267f1f] \u001b[39m\u001b[92m+ TOML v1.0.3\u001b[39m\n",
      " \u001b[90m [3783bdb8] \u001b[39m\u001b[93m↑ TableTraits v1.0.0 ⇒ v1.0.1\u001b[39m\n",
      " \u001b[90m [bd369af6] \u001b[39m\u001b[93m↑ Tables v1.2.1 ⇒ v1.7.0\u001b[39m\n",
      " \u001b[90m [62fd8b95] \u001b[39m\u001b[92m+ TensorCore v0.1.1\u001b[39m\n",
      " \u001b[90m [81def892] \u001b[39m\u001b[93m↑ VersionParsing v1.2.0 ⇒ v1.3.0\u001b[39m\n",
      " \u001b[90m [2381bf8a] \u001b[39m\u001b[93m↑ Wayland_protocols_jll v1.18.0+4 ⇒ v1.25.0+0\u001b[39m\n",
      " \u001b[90m [3161d3a3] \u001b[39m\u001b[93m↑ Zstd_jll v1.4.5+2 ⇒ v1.4.8+0\u001b[39m\n",
      " \u001b[90m [8e850ede] \u001b[39m\u001b[92m+ nghttp2_jll v1.40.0+2\u001b[39m\n",
      " \u001b[90m [7b1f6079] \u001b[39m\u001b[92m+ FileWatching\u001b[39m\n"
     ]
    },
    {
     "name": "stderr",
     "output_type": "stream",
     "text": [
      "\u001b[32m\u001b[1m   Building\u001b[22m\u001b[39m Conda ─→ `~/.julia/packages/Conda/x2UxR/deps/build.log`\n"
     ]
    },
    {
     "name": "stderr",
     "output_type": "stream",
     "text": [
      "\u001b[32m\u001b[1m   Building\u001b[22m\u001b[39m PyCall → `~/.julia/packages/PyCall/7a7w0/deps/build.log`\n"
     ]
    }
   ],
   "source": [
    "import Pkg; Pkg.add(\"SPICE\")"
   ]
  },
  {
   "cell_type": "code",
   "execution_count": 60,
   "metadata": {},
   "outputs": [
    {
     "data": {
      "text/plain": [
       "([-9.561252750118901e7, -2.045743839170729e8, -8.601309297738348e7], 806.0297773638883)"
      ]
     },
     "metadata": {},
     "output_type": "display_data"
    }
   ],
   "source": [
    "import SPICE\n",
    "\n",
    "# Load generic kernels\n",
    "SPICE.furnsh(\"/Users/naoya/Google Drive/21_Programming/SPICE/generic_kernels/lsk/naif0012.tls\") # Leap seconds kernel\n",
    "SPICE.furnsh(\"/Users/naoya/Google Drive/21_Programming/SPICE/generic_kernels/pck/gm_de431.tpc\") # Gravity Constant\n",
    "SPICE.furnsh(\"/Users/naoya/Google Drive/21_Programming/SPICE/generic_kernels/spk/planets/de440.bsp\") # Planetary ephemeris kernel\n",
    "\n",
    "# Convert the calendar date to ephemeris seconds past J2000\n",
    "et = SPICE.utc2et(\"2018-02-06T20:45:00\")\n",
    "\n",
    "# Get the position of Mars at `et` w.r.t. Earth\n",
    "SPICE.spkpos(\"mars_barycenter\", et, \"J2000\", \"none\", \"earth\")"
   ]
  },
  {
   "cell_type": "markdown",
   "metadata": {},
   "source": [
    "# 2. 理論編\n",
    "TBW"
   ]
  },
  {
   "cell_type": "markdown",
   "metadata": {},
   "source": [
    "# 3. 実装編\n",
    "\n",
    "## 3.1. 前提条件\n",
    "以下に示す前提条件でランベール問題の実装を進める．"
   ]
  },
  {
   "cell_type": "code",
   "execution_count": 72,
   "metadata": {},
   "outputs": [
    {
     "data": {
      "text/plain": [
       "3-element Array{Float64,1}:\n",
       "  2.0803122655020934e8\n",
       "  1.8008145720647745e7\n",
       " -4.721309430616008e6"
      ]
     },
     "metadata": {},
     "output_type": "display_data"
    }
   ],
   "source": [
    "import SPICE\n",
    "# 重力定数\n",
    "μ = SPICE.bodvrd(\"SUN\", \"GM\", 1)[1];\n",
    "\n",
    "# 飛行時間\n",
    "et1 = SPICE.str2et(\"2031/03/01 00:00:00 UTC\") # 地球出発日時, UTC\n",
    "et2 = SPICE.str2et(\"2032/01/01 00:00:00 UTC\") # 火星到着日時, UTC\n",
    "tof = et2 - et1 # 飛行時間\n",
    "\n",
    "#　地球・火星軌道\n",
    "state_earth, _ = SPICE.spkez(399, et1, \"ECLIPJ2000\", \"NONE\", 10)\n",
    "state_mars, _ = SPICE.spkez(4, et2, \"ECLIPJ2000\", \"NONE\", 10)\n",
    "\n",
    "r1 = state_earth[1:3]\n",
    "r2 = state_mars[1:3]"
   ]
  },
  {
   "cell_type": "markdown",
   "metadata": {},
   "source": [
    "## 3.2. ランベール問題のソルバー\n",
    "ランベール問題を解く際に利用される変数\n",
    "$$\n",
    "\\begin{align}\n",
    "c &= \\|\\boldsymbol{r}_2 - \\boldsymbol{r}_1\\| \\\\\n",
    "s &= \\frac{1}{2}\\left(r_1 + r_2 + c\\right) \\\\\n",
    "\\lambda^2 &= 1 - \\frac{c}{s}\n",
    "\\end{align}\n",
    "$$\n",
    "および軌道を規定する基底を計算する．\n"
   ]
  },
  {
   "cell_type": "code",
   "execution_count": 73,
   "metadata": {},
   "outputs": [
    {
     "data": {
      "text/plain": [
       "3-element Array{Float64,1}:\n",
       " -0.018349153508173635\n",
       " -0.049835784657667\n",
       " -0.9985888559027125"
      ]
     },
     "metadata": {},
     "output_type": "display_data"
    }
   ],
   "source": [
    "using LinearAlgebra\n",
    "\n",
    "# ランベール問題で用いられる幾何学的な変数\n",
    "r1_norm = norm(r1)\n",
    "r2_norm = norm(r2)\n",
    "c = norm(r2-r1)\n",
    "s = 0.5*(r1_norm + r2_norm + c)\n",
    "λ2 = 1.0 - c_norm/s\n",
    "\n",
    "# 無次元化時刻の計算\n",
    "T = sqrt(2.0*μ/(s^3))*tof"
   ]
  },
  {
   "cell_type": "code",
   "execution_count": 75,
   "metadata": {},
   "outputs": [
    {
     "data": {
      "text/plain": [
       "3-element Array{Float64,1}:\n",
       " -0.0872249314162494\n",
       "  0.9950288911397668\n",
       " -0.04805535492114194"
      ]
     },
     "metadata": {},
     "output_type": "display_data"
    }
   ],
   "source": [
    "# 基底ベクトル\n",
    "ivec_r1 = r1/r1_norm\n",
    "ivec_r2 = r2/r2_norm\n",
    "ivec_h = cross(ivec_r1, ivec_r2)\n",
    "ivec_h = ivec_h/norm(ivec_h) # 角運動量ベクトル\n",
    "# NOTE: r1ベクトルとr2ベクトルが平行な場合，ivec_hが定義できないため，注意が必要．\n",
    "\n",
    "if ivec_h[3] < 0.0\n",
    "    λ = -sqrt(λ2)\n",
    "    ivec_t1 = -cross(ivec_h, ivec_r1)\n",
    "    ivec_t2 = -cross(ivec_h, ivec_r2)\n",
    "else\n",
    "    λ = sqrt(λ2)\n",
    "    ivec_t1 = cross(ivec_h, ivec_r1)\n",
    "    ivec_t2 = cross(ivec_h, ivec_r2)\n",
    "end"
   ]
  },
  {
   "cell_type": "code",
   "execution_count": 76,
   "metadata": {},
   "outputs": [],
   "source": [
    "# x, yの解法"
   ]
  },
  {
   "cell_type": "code",
   "execution_count": null,
   "metadata": {},
   "outputs": [],
   "source": []
  }
 ],
 "metadata": {
  "kernelspec": {
   "display_name": "Julia 1.5.3",
   "language": "julia",
   "name": "julia-1.5"
  },
  "language_info": {
   "file_extension": ".jl",
   "mimetype": "application/julia",
   "name": "julia",
   "version": "1.5.3"
  },
  "orig_nbformat": 4
 },
 "nbformat": 4,
 "nbformat_minor": 2
}
