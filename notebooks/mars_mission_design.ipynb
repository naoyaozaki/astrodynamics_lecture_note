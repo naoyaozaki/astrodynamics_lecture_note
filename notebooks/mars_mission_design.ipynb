{
 "cells": [
  {
   "cell_type": "markdown",
   "metadata": {},
   "source": [
    "---  \n",
    "title: \"火星ミッション設計に関するノートブック\"  \n",
    "author: \"Naoya Ozaki\"  \n",
    "date: \"16 October 2021\"  \n",
    "output: \"mars_mission_design\"  \n",
    "\n",
    "---  \n",
    "\n",
    "# 火星ミッション設計に関するノートブック\n",
    "Hohman TransferやLambert's Problemを解いて，火星ミッションの設計をしてみよう．"
   ]
  },
  {
   "cell_type": "markdown",
   "metadata": {},
   "source": [
    "## 1. ツィオルコフスキーのロケット方程式\n",
    "初期質量$m_0$のロケットが，増速量$\\Delta V$だけ加速したときに，最終的に投入できる質量$m_T$を計算するための公式．\n",
    "$$\n",
    "m_T = m_0 \\exp\\left(-\\frac{\\Delta V}{g_0 I_{sp}}\\right)\n",
    "$$"
   ]
  },
  {
   "cell_type": "code",
   "execution_count": 1,
   "metadata": {},
   "outputs": [
    {
     "data": {
      "text/plain": [
       "450.60741350639483"
      ]
     },
     "execution_count": 1,
     "metadata": {},
     "output_type": "execute_result"
    }
   ],
   "source": [
    "# Pythonのモジュールをインポート\n",
    "import numpy as np\n",
    "\n",
    "# 計算条件\n",
    "m0 = 1500 # 宇宙機の初期質量, kg\n",
    "dv = 3.3 # LEOから深宇宙へのΔV，km/s\n",
    "isp = 280 # 標準的な固体推進系のIsp，s\n",
    "g0 = 9.8e-3 # 重力加速度, km/s2\n",
    "\n",
    "# ロケット方程式を用いて最終的な質量を計算\n",
    "mt = m0*np.exp(-dv/(g0*isp))\n",
    "\n",
    "mt\n"
   ]
  },
  {
   "cell_type": "markdown",
   "metadata": {},
   "source": [
    "## 2. ホーマン遷移軌道\n",
    "中心天体の重力定数を$GM$とし，楕円軌道の近点半径を$r_p$, 遠点半径を$r_a$とすると，楕円の近点速度は\n",
    "$$\n",
    "v_p = \\sqrt{\\frac{GM}{r_p}}\\sqrt{\\frac{2 r_a}{r_a + r_p}}\n",
    "$$\n",
    "また，遠点速度は\n",
    "$$\n",
    "v_a = \\sqrt{\\frac{GM}{r_a}}\\sqrt{\\frac{2 r_p}{r_a + r_p}}\n",
    "$$\n",
    "である．\n",
    "\n",
    "したがって，地球から火星遷移に必要な$V_{\\infty}$は\n",
    "$$\n",
    "V_{\\infty} = v_p - v_E = \\sqrt{\\frac{GM_{\\odot}}{r_p}}\\sqrt{\\frac{2 r_a}{r_a + r_p}} - \\sqrt{\\frac{GM_{\\odot}}{r_p}}\n",
    "$$\n",
    "である．半径$r_0$の地球周回円軌道から脱出し，火星到達に必要な$\\Delta V$は，\n",
    "$$\n",
    "\\Delta V = \\sqrt{V_{\\infty}^2 + \\frac{2GM_{\\oplus}}{r_0}} - \\sqrt{\\frac{GM_{\\oplus}}{r_0}}\n",
    "$$\n"
   ]
  },
  {
   "cell_type": "code",
   "execution_count": 2,
   "metadata": {},
   "outputs": [
    {
     "data": {
      "text/plain": [
       "(2.9448018637676228, 3.611409421391528)"
      ]
     },
     "execution_count": 2,
     "metadata": {},
     "output_type": "execute_result"
    }
   ],
   "source": [
    "# Pythonのモジュールをインポート\n",
    "import numpy as np\n",
    "\n",
    "# 計算条件\n",
    "GM_SUN = 132712440041.9393 # 太陽の重力定数, km3/s2\n",
    "GM_EAR = 398600.4354360959 # 地球の重力定数, km3/s2\n",
    "rp = 149598261.1414425 # 地球軌道半径, km\n",
    "ra = 227943822.41385967 # 火星軌道半径, km\n",
    "r0 = 6578.1366 # 初期の地球周回軌道半径(高度200km), km\n",
    "\n",
    "# 地球から火星遷移に必要なVinfの計算\n",
    "vinf = np.sqrt(GM_SUN/rp)*np.sqrt(2*ra/(rp+ra)) - np.sqrt(GM_SUN/rp)\n",
    "\n",
    "# 地球周回円軌道\n",
    "dv = np.sqrt(vinf**2 + 2*GM_EAR/r0) - np.sqrt(GM_EAR/r0)\n",
    "\n",
    "vinf, dv\n"
   ]
  },
  {
   "cell_type": "code",
   "execution_count": 3,
   "metadata": {},
   "outputs": [
    {
     "data": {
      "text/plain": [
       "402.2641980850577"
      ]
     },
     "execution_count": 3,
     "metadata": {},
     "output_type": "execute_result"
    }
   ],
   "source": [
    "# 新しいDV条件を用いて，ロケット方程式を再計算してみる\n",
    "mt = m0*np.exp(-dv/(g0*isp))\n",
    "\n",
    "mt\n"
   ]
  },
  {
   "cell_type": "markdown",
   "metadata": {},
   "source": [
    "## 3. ランベール問題による地球・火星遷移軌道設計\n",
    "地球出発時刻$t_0$と火星到着時刻$t_f$から，地球位置$\\bm{r}_0$，火星位置$\\bm{r}_f$，遷移時間TOF($=t_f-t_0$)を計算し，`pykep`のランベール問題を解く．"
   ]
  },
  {
   "cell_type": "code",
   "execution_count": 4,
   "metadata": {},
   "outputs": [
    {
     "data": {
      "text/plain": [
       "Lambert's problem:\n",
       "mu = 1.32712440018e+20\n",
       "r1 = [-139051013702.0383, 51262022630.733292, -3623145.793206485]\n",
       "r2 = [208017430234.06262, 17979107552.055771, -4721657656.797616]\n",
       "Time of flight: 26438400\n",
       "\n",
       "chord = 348692582459.12\n",
       "semiperimeter = 352869021492.16\n",
       "lambda = -0.10879183608813\n",
       "non dimensional time of flight = 2.0548763041617\n",
       "\n",
       "Maximum number of revolutions: 0\n",
       "Solutions: \n",
       "0 revs, Iters: 2, x: -0.18848902518017, a: 182933803518.27\n",
       "\tv1= [-12150.42568374956, -30247.248546283001, 1733.7292986851694] v2= [-5060.8950474621943, 22775.858670749865, -1044.2635751017426]"
      ]
     },
     "execution_count": 4,
     "metadata": {},
     "output_type": "execute_result"
    }
   ],
   "source": [
    "# Pythonのモジュールをインポート\n",
    "import numpy as np\n",
    "import pykep as pk\n",
    "\n",
    "# 計算条件 (kmではなく，mを用いる)\n",
    "GM_SUN = pk.MU_SUN  # 太陽の重力定数, m3/s2\n",
    "t1 = pk.epoch_from_string('2031-03-01 00:00:00') # 地球出発日時, UTC\n",
    "t2 = pk.epoch_from_string('2032-01-01 00:00:00') # 火星到着日時, UTC\n",
    "tof = (t2.jd-t1.jd)*86400 # day (Julian Date) to sec\n",
    "\n",
    "# 惑星の位置・速度ベクトルを取得する\n",
    "earth = pk.planet.jpl_lp('earth')\n",
    "r_ear, v_ear = earth.eph(t1) # m, m/s\n",
    "\n",
    "mars = pk.planet.jpl_lp('mars')\n",
    "r_mar, v_mar = mars.eph(t2)  # m, m/s\n",
    "\n",
    "# Lambert問題を解く\n",
    "l = pk.lambert_problem(r1=r_ear, r2=r_mar, tof=tof, mu=GM_SUN, max_revs=0)\n",
    "\n",
    "# 結果の表示\n",
    "l\n"
   ]
  },
  {
   "cell_type": "code",
   "execution_count": 5,
   "metadata": {},
   "outputs": [
    {
     "data": {
      "text/plain": [
       "(3.102950613946434, 9.628302512590551)"
      ]
     },
     "execution_count": 5,
     "metadata": {},
     "output_type": "execute_result"
    }
   ],
   "source": [
    "# 速度ベクトルの取得\n",
    "v1_sc = l.get_v1()[0]\n",
    "v2_sc = l.get_v2()[0]\n",
    "\n",
    "# Vinfの計算\n",
    "vinf1_vec = np.array(v1_sc) - np.array(v_ear)\n",
    "vinf1 = np.linalg.norm(vinf1_vec)/1e3  # m/s to km/s\n",
    "c3 = vinf1**2\n",
    "\n",
    "# 結果の表示\n",
    "vinf1, c3\n"
   ]
  },
  {
   "cell_type": "code",
   "execution_count": 6,
   "metadata": {},
   "outputs": [
    {
     "data": {
      "text/plain": [
       "396.17010541869735"
      ]
     },
     "execution_count": 6,
     "metadata": {},
     "output_type": "execute_result"
    }
   ],
   "source": [
    "# DVを計算し，ロケット方程式を解く\n",
    "dv = np.sqrt(vinf1**2 + 2*GM_EAR/r0) - np.sqrt(GM_EAR/r0)\n",
    "mt = m0*np.exp(-dv/(g0*isp))\n",
    "\n",
    "# 結果の表示\n",
    "mt\n"
   ]
  },
  {
   "cell_type": "code",
   "execution_count": null,
   "metadata": {},
   "outputs": [],
   "source": []
  }
 ],
 "metadata": {
  "interpreter": {
   "hash": "1742bffdcf03e81d2831cc3776b8e643b628a0dbd2c650e1f7335b396b82b241"
  },
  "kernelspec": {
   "display_name": "Python 3.8.3 64-bit ('noenv': conda)",
   "name": "python3"
  },
  "language_info": {
   "codemirror_mode": {
    "name": "ipython",
    "version": 3
   },
   "file_extension": ".py",
   "mimetype": "text/x-python",
   "name": "python",
   "nbconvert_exporter": "python",
   "pygments_lexer": "ipython3",
   "version": "3.8.3"
  },
  "orig_nbformat": 4
 },
 "nbformat": 4,
 "nbformat_minor": 2
}
