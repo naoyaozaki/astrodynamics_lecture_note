{
 "cells": [
  {
   "cell_type": "markdown",
   "source": [
    "---  \n",
    "title: \"軌道要素の変換に関するノートブック\"  \n",
    "author: \"Naoya Ozaki\"  \n",
    "date: \"16 October 2021\"  \n",
    "output: \"orbital_elements\"  \n",
    "\n",
    "---  \n",
    "\n",
    "# 軌道要素の変換に関するノートブック\n",
    "`pykep`を用いて，軌道要素を位置・速度に変換する．"
   ],
   "metadata": {}
  },
  {
   "cell_type": "code",
   "execution_count": null,
   "source": [
    "!pip install pykep"
   ],
   "outputs": [],
   "metadata": {}
  },
  {
   "cell_type": "code",
   "execution_count": 6,
   "source": [
    "# Pythonのモジュールをインポート\n",
    "import pykep as pk\n",
    "\n",
    "# 計算条件\n",
    "GM = 132712440041.9393  # km3/s2\n",
    "oe = [\n",
    "    149598261.1504,  # a, km\n",
    "    0.01671123,  # e, -\n",
    "    -2.6720990848033185e-07,  # i, rad\n",
    "    0.0,  # O, rad\n",
    "    1.796601474049171,  # w, rad\n",
    "    0.0  # E, rad\n",
    "]\n",
    "r, v = pk.par2ic(oe, GM)\n",
    "\n",
    "r, v\n"
   ],
   "outputs": [
    {
     "output_type": "execute_result",
     "data": {
      "text/plain": [
       "((-32934004.257253725, 143364076.19608086, -38.308301679723),\n",
       " (-29.51776907469439, -6.7809060551608615, 1.8119252864133049e-06))"
      ]
     },
     "metadata": {},
     "execution_count": 6
    }
   ],
   "metadata": {}
  },
  {
   "cell_type": "code",
   "execution_count": null,
   "source": [],
   "outputs": [],
   "metadata": {}
  }
 ],
 "metadata": {
  "orig_nbformat": 4,
  "language_info": {
   "name": "python",
   "version": "3.8.3",
   "mimetype": "text/x-python",
   "codemirror_mode": {
    "name": "ipython",
    "version": 3
   },
   "pygments_lexer": "ipython3",
   "nbconvert_exporter": "python",
   "file_extension": ".py"
  },
  "kernelspec": {
   "name": "python3",
   "display_name": "Python 3.8.3 64-bit ('noenv': conda)"
  },
  "interpreter": {
   "hash": "78a27975303ea1ad6ffe17f84883e799fe009f67228f882561b0af7f440535d6"
  }
 },
 "nbformat": 4,
 "nbformat_minor": 2
}